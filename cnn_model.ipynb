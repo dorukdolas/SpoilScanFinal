{
  "nbformat": 4,
  "nbformat_minor": 0,
  "metadata": {
    "colab": {
      "provenance": [],
      "gpuType": "A100",
      "machine_shape": "hm"
    },
    "kernelspec": {
      "name": "python3",
      "display_name": "Python 3"
    },
    "language_info": {
      "name": "python"
    },
    "accelerator": "GPU"
  },
  "cells": [
    {
      "cell_type": "code",
      "source": [
        "import shutil\n",
        "\n",
        "#shutil.rmtree(\"/content/Fresh_and_Rotten_Classification\")\n",
        "#shutil.rmtree(\"/content/Fruit_And_Vegetable_Diseases_Dataset\")\n"
      ],
      "metadata": {
        "id": "m7rGMuSsXIe-"
      },
      "execution_count": 1,
      "outputs": []
    },
    {
      "cell_type": "code",
      "execution_count": 2,
      "metadata": {
        "colab": {
          "base_uri": "https://localhost:8080/"
        },
        "id": "Ob-NwXtq37Mk",
        "outputId": "7735fada-bed0-482c-c65d-2a213d12d082"
      },
      "outputs": [
        {
          "output_type": "stream",
          "name": "stdout",
          "text": [
            "Mounted at /content/drive\n",
            "dataset1 çıkartıldı: /content/Fresh_and_Rotten_Classification\n",
            "dataset2 çıkartıldı: /content/Fruit_And_Vegetable_Diseases_Dataset\n"
          ]
        }
      ],
      "source": [
        "from google.colab import drive\n",
        "import zipfile\n",
        "import os\n",
        "\n",
        "# Google Drive'ı bağla\n",
        "drive.mount('/content/drive')\n",
        "\n",
        "# Dataset 1: Fresh_and_Rotten_Classification\n",
        "zip_path1 = \"/content/drive/MyDrive/Colab Notebooks/Fresh_and_Rotten_Classification.zip\"\n",
        "extract_path1 = \"/content/Fresh_and_Rotten_Classification\"\n",
        "\n",
        "if not os.path.exists(extract_path1):\n",
        "    with zipfile.ZipFile(zip_path1, 'r') as zip_ref:\n",
        "        zip_ref.extractall(extract_path1)\n",
        "    print(f\"dataset1 çıkartıldı: {extract_path1}\")\n",
        "else:\n",
        "    print(f\"dataset1 zaten mevcut, tekrar çıkartılmadı: {extract_path1}\")\n",
        "\n",
        "# Dataset 2: Fruit_And_Vegetable_Diseases_Dataset\n",
        "zip_path2 = \"/content/drive/MyDrive/Colab Notebooks/Fruit_And_Vegetable_Diseases_Dataset.zip\"\n",
        "extract_path2 = \"/content/Fruit_And_Vegetable_Diseases_Dataset\"\n",
        "\n",
        "if not os.path.exists(extract_path2):\n",
        "    with zipfile.ZipFile(zip_path2, 'r') as zip_ref:\n",
        "        zip_ref.extractall(extract_path2)\n",
        "    print(f\"dataset2 çıkartıldı: {extract_path2}\")\n",
        "else:\n",
        "    print(f\"dataset2 zaten mevcut, tekrar çıkartılmadı: {extract_path2}\")\n"
      ]
    },
    {
      "cell_type": "code",
      "source": [
        "import tensorflow as tf\n",
        "\n",
        "def find_tf_bozuk_gorseller(root_dir):\n",
        "    bozuklar = []\n",
        "\n",
        "    for class_dir in os.listdir(root_dir):\n",
        "        class_path = os.path.join(root_dir, class_dir)\n",
        "        if not os.path.isdir(class_path):\n",
        "            continue\n",
        "\n",
        "        for file in os.listdir(class_path):\n",
        "            file_path = os.path.join(class_path, file)\n",
        "            try:\n",
        "                img_raw = tf.io.read_file(file_path)\n",
        "                _ = tf.image.decode_image(img_raw)  # TensorFlow'un kendi decoder'ı\n",
        "            except Exception as e:\n",
        "                print(f\"TF bozuk: {file_path} - {e}\")\n",
        "                bozuklar.append(file_path)\n",
        "\n",
        "    print(f\"\\nTensorFlow tarafından okunamayan dosya sayısı: {len(bozuklar)}\")\n",
        "    for f in bozuklar:\n",
        "      try:\n",
        "          os.remove(f)\n",
        "          print(f\"Silindi: {f}\")\n",
        "      except Exception as e:\n",
        "          print(f\"Silinemedi: {f} - {e}\")\n",
        "\n",
        "    return bozuklar\n",
        "\n",
        "bozuklar = find_tf_bozuk_gorseller(\"/content/Fruit_And_Vegetable_Diseases_Dataset/Fruit_And_Vegetable_Diseases_Dataset/Test\")\n",
        "bozuklar = find_tf_bozuk_gorseller(\"/content/Fruit_And_Vegetable_Diseases_Dataset/Fruit_And_Vegetable_Diseases_Dataset/Train\")\n"
      ],
      "metadata": {
        "colab": {
          "base_uri": "https://localhost:8080/"
        },
        "id": "3pIVrmF_AMEc",
        "outputId": "a58917c5-9f36-4a80-d49e-4db6f6d9be8a"
      },
      "execution_count": 3,
      "outputs": [
        {
          "output_type": "stream",
          "name": "stdout",
          "text": [
            "TF bozuk: /content/Fruit_And_Vegetable_Diseases_Dataset/Fruit_And_Vegetable_Diseases_Dataset/Test/Bellpepper__Rotten/rottenPepper (1).jpg - {{function_node __wrapped__DecodeImage_device_/job:localhost/replica:0/task:0/device:CPU:0}} Unknown image file format. One of JPEG, PNG, GIF, BMP required. [Op:DecodeImage] name: \n",
            "TF bozuk: /content/Fruit_And_Vegetable_Diseases_Dataset/Fruit_And_Vegetable_Diseases_Dataset/Test/Banana__Rotten/.DS_Store - {{function_node __wrapped__DecodeImage_device_/job:localhost/replica:0/task:0/device:CPU:0}} Unknown image file format. One of JPEG, PNG, GIF, BMP required. [Op:DecodeImage] name: \n",
            "TF bozuk: /content/Fruit_And_Vegetable_Diseases_Dataset/Fruit_And_Vegetable_Diseases_Dataset/Test/Banana__Healthy/freshBanana (422).jpg - {{function_node __wrapped__DecodeImage_device_/job:localhost/replica:0/task:0/device:CPU:0}} Unknown image file format. One of JPEG, PNG, GIF, BMP required. [Op:DecodeImage] name: \n",
            "TF bozuk: /content/Fruit_And_Vegetable_Diseases_Dataset/Fruit_And_Vegetable_Diseases_Dataset/Test/Apple__Rotten/.DS_Store - {{function_node __wrapped__DecodeImage_device_/job:localhost/replica:0/task:0/device:CPU:0}} Unknown image file format. One of JPEG, PNG, GIF, BMP required. [Op:DecodeImage] name: \n",
            "\n",
            "TensorFlow tarafından okunamayan dosya sayısı: 4\n",
            "Silindi: /content/Fruit_And_Vegetable_Diseases_Dataset/Fruit_And_Vegetable_Diseases_Dataset/Test/Bellpepper__Rotten/rottenPepper (1).jpg\n",
            "Silindi: /content/Fruit_And_Vegetable_Diseases_Dataset/Fruit_And_Vegetable_Diseases_Dataset/Test/Banana__Rotten/.DS_Store\n",
            "Silindi: /content/Fruit_And_Vegetable_Diseases_Dataset/Fruit_And_Vegetable_Diseases_Dataset/Test/Banana__Healthy/freshBanana (422).jpg\n",
            "Silindi: /content/Fruit_And_Vegetable_Diseases_Dataset/Fruit_And_Vegetable_Diseases_Dataset/Test/Apple__Rotten/.DS_Store\n",
            "TF bozuk: /content/Fruit_And_Vegetable_Diseases_Dataset/Fruit_And_Vegetable_Diseases_Dataset/Train/Carrot__Healthy/freshCarrot (415).jpg - {{function_node __wrapped__DecodeImage_device_/job:localhost/replica:0/task:0/device:CPU:0}} Unknown image file format. One of JPEG, PNG, GIF, BMP required. [Op:DecodeImage] name: \n",
            "TF bozuk: /content/Fruit_And_Vegetable_Diseases_Dataset/Fruit_And_Vegetable_Diseases_Dataset/Train/Carrot__Healthy/.DS_Store - {{function_node __wrapped__DecodeImage_device_/job:localhost/replica:0/task:0/device:CPU:0}} Unknown image file format. One of JPEG, PNG, GIF, BMP required. [Op:DecodeImage] name: \n",
            "TF bozuk: /content/Fruit_And_Vegetable_Diseases_Dataset/Fruit_And_Vegetable_Diseases_Dataset/Train/Carrot__Rotten/.DS_Store - {{function_node __wrapped__DecodeImage_device_/job:localhost/replica:0/task:0/device:CPU:0}} Unknown image file format. One of JPEG, PNG, GIF, BMP required. [Op:DecodeImage] name: \n",
            "TF bozuk: /content/Fruit_And_Vegetable_Diseases_Dataset/Fruit_And_Vegetable_Diseases_Dataset/Train/Tomato__Rotten/.DS_Store - {{function_node __wrapped__DecodeImage_device_/job:localhost/replica:0/task:0/device:CPU:0}} Unknown image file format. One of JPEG, PNG, GIF, BMP required. [Op:DecodeImage] name: \n",
            "TF bozuk: /content/Fruit_And_Vegetable_Diseases_Dataset/Fruit_And_Vegetable_Diseases_Dataset/Train/Potato__Healthy/.DS_Store - {{function_node __wrapped__DecodeImage_device_/job:localhost/replica:0/task:0/device:CPU:0}} Unknown image file format. One of JPEG, PNG, GIF, BMP required. [Op:DecodeImage] name: \n",
            "TF bozuk: /content/Fruit_And_Vegetable_Diseases_Dataset/Fruit_And_Vegetable_Diseases_Dataset/Train/Banana__Rotten/.DS_Store - {{function_node __wrapped__DecodeImage_device_/job:localhost/replica:0/task:0/device:CPU:0}} Unknown image file format. One of JPEG, PNG, GIF, BMP required. [Op:DecodeImage] name: \n",
            "TF bozuk: /content/Fruit_And_Vegetable_Diseases_Dataset/Fruit_And_Vegetable_Diseases_Dataset/Train/Banana__Healthy/.DS_Store - {{function_node __wrapped__DecodeImage_device_/job:localhost/replica:0/task:0/device:CPU:0}} Unknown image file format. One of JPEG, PNG, GIF, BMP required. [Op:DecodeImage] name: \n",
            "TF bozuk: /content/Fruit_And_Vegetable_Diseases_Dataset/Fruit_And_Vegetable_Diseases_Dataset/Train/Apple__Rotten/.DS_Store - {{function_node __wrapped__DecodeImage_device_/job:localhost/replica:0/task:0/device:CPU:0}} Unknown image file format. One of JPEG, PNG, GIF, BMP required. [Op:DecodeImage] name: \n",
            "TF bozuk: /content/Fruit_And_Vegetable_Diseases_Dataset/Fruit_And_Vegetable_Diseases_Dataset/Train/Potato__Rotten/.DS_Store - {{function_node __wrapped__DecodeImage_device_/job:localhost/replica:0/task:0/device:CPU:0}} Unknown image file format. One of JPEG, PNG, GIF, BMP required. [Op:DecodeImage] name: \n",
            "\n",
            "TensorFlow tarafından okunamayan dosya sayısı: 9\n",
            "Silindi: /content/Fruit_And_Vegetable_Diseases_Dataset/Fruit_And_Vegetable_Diseases_Dataset/Train/Carrot__Healthy/freshCarrot (415).jpg\n",
            "Silindi: /content/Fruit_And_Vegetable_Diseases_Dataset/Fruit_And_Vegetable_Diseases_Dataset/Train/Carrot__Healthy/.DS_Store\n",
            "Silindi: /content/Fruit_And_Vegetable_Diseases_Dataset/Fruit_And_Vegetable_Diseases_Dataset/Train/Carrot__Rotten/.DS_Store\n",
            "Silindi: /content/Fruit_And_Vegetable_Diseases_Dataset/Fruit_And_Vegetable_Diseases_Dataset/Train/Tomato__Rotten/.DS_Store\n",
            "Silindi: /content/Fruit_And_Vegetable_Diseases_Dataset/Fruit_And_Vegetable_Diseases_Dataset/Train/Potato__Healthy/.DS_Store\n",
            "Silindi: /content/Fruit_And_Vegetable_Diseases_Dataset/Fruit_And_Vegetable_Diseases_Dataset/Train/Banana__Rotten/.DS_Store\n",
            "Silindi: /content/Fruit_And_Vegetable_Diseases_Dataset/Fruit_And_Vegetable_Diseases_Dataset/Train/Banana__Healthy/.DS_Store\n",
            "Silindi: /content/Fruit_And_Vegetable_Diseases_Dataset/Fruit_And_Vegetable_Diseases_Dataset/Train/Apple__Rotten/.DS_Store\n",
            "Silindi: /content/Fruit_And_Vegetable_Diseases_Dataset/Fruit_And_Vegetable_Diseases_Dataset/Train/Potato__Rotten/.DS_Store\n"
          ]
        }
      ]
    },
    {
      "cell_type": "markdown",
      "source": [
        "Üstteki 3 hücredeki kodu chatgpt den yazdırdım çünkü google colab üzerinden çalıştığımdan\n",
        "\n",
        "ilk hücre, dosyaları silmeme yarıyor yoksa colab üzerinden boş olmayan dosyayı silmeme izin vermiyor bu yüzden kod ile çözdürdüm.\n",
        "\n",
        "ikinci hücre, dosya sistemi colab üzerinde biraz daha karmaşık olduğundan ve veri setlerimi drive'a yüklerken ziplediğimden gerekiyor.\n",
        "\n",
        "üçüncü hücre de bozuk olan görselleri (.webp ve boş uzantılı şimdilik denk gelinen dosyalar) tespit edip siliyor.\n"
      ],
      "metadata": {
        "id": "dx77dbC2IpVu"
      }
    },
    {
      "cell_type": "code",
      "source": [
        "import os\n",
        "from tensorflow.keras.utils import image_dataset_from_directory\n",
        "from tensorflow.keras.models import Sequential\n",
        "from tensorflow.keras.layers import Conv2D, MaxPooling2D, Flatten, Dense\n",
        "from tensorflow.keras.callbacks import EarlyStopping, ModelCheckpoint\n",
        "from tensorflow.keras.optimizers import SGD\n",
        "\n",
        "BATCH_SIZE = 128\n",
        "EPOCHS = 50\n"
      ],
      "metadata": {
        "id": "OUc5E7JV4BWS"
      },
      "execution_count": 4,
      "outputs": []
    },
    {
      "cell_type": "code",
      "source": [
        "IMAGE_SIZE = (224, 224)\n",
        "SEED = 41\n",
        "\n",
        "train_dir_1 = \"/content/Fresh_and_Rotten_Classification/Fresh_and_Rotten_Classification/Train\"\n",
        "test_dir_1  = \"/content/Fresh_and_Rotten_Classification/Fresh_and_Rotten_Classification/Test\"\n",
        "\n",
        "train_dir_2 = \"/content/Fruit_And_Vegetable_Diseases_Dataset/Fruit_And_Vegetable_Diseases_Dataset/Train\"\n",
        "test_dir_2  = \"/content/Fruit_And_Vegetable_Diseases_Dataset/Fruit_And_Vegetable_Diseases_Dataset/Test\""
      ],
      "metadata": {
        "id": "posBEu1e7oLt"
      },
      "execution_count": 5,
      "outputs": []
    },
    {
      "cell_type": "code",
      "source": [
        "# Dataset 1: Fresh and Rotten\n",
        "train_ds_1 = image_dataset_from_directory(\n",
        "    train_dir_1,\n",
        "    validation_split=0.2,\n",
        "    subset=\"training\",\n",
        "    seed=SEED,\n",
        "    image_size=IMAGE_SIZE,\n",
        "    batch_size=BATCH_SIZE,\n",
        "    shuffle=True\n",
        ")\n",
        "\n",
        "val_ds_1 = image_dataset_from_directory(\n",
        "    train_dir_1,\n",
        "    validation_split=0.2,\n",
        "    subset=\"validation\",\n",
        "    seed=SEED,\n",
        "    image_size=IMAGE_SIZE,\n",
        "    batch_size=BATCH_SIZE,\n",
        "    shuffle=True\n",
        ")\n",
        "\n",
        "test_ds_1 = image_dataset_from_directory(\n",
        "    test_dir_1,\n",
        "    image_size=IMAGE_SIZE,\n",
        "    batch_size=BATCH_SIZE,\n",
        "    shuffle=False\n",
        ")\n"
      ],
      "metadata": {
        "id": "aq9GDYdI253I",
        "colab": {
          "base_uri": "https://localhost:8080/"
        },
        "outputId": "be9f7238-405f-4368-9caf-11ee8224f0df"
      },
      "execution_count": 6,
      "outputs": [
        {
          "output_type": "stream",
          "name": "stdout",
          "text": [
            "Found 21044 files belonging to 14 classes.\n",
            "Using 16836 files for training.\n",
            "Found 21044 files belonging to 14 classes.\n",
            "Using 4208 files for validation.\n",
            "Found 6738 files belonging to 14 classes.\n"
          ]
        }
      ]
    },
    {
      "cell_type": "code",
      "source": [
        "# Dataset 2: Fruit and Vegetable Disease\n",
        "train_ds_2 = image_dataset_from_directory(\n",
        "    train_dir_2,\n",
        "    validation_split=0.2,\n",
        "    subset=\"training\",\n",
        "    seed=SEED,\n",
        "    image_size=IMAGE_SIZE,\n",
        "    batch_size=BATCH_SIZE,\n",
        "    shuffle=True\n",
        ")\n",
        "\n",
        "val_ds_2 = image_dataset_from_directory(\n",
        "    train_dir_2,\n",
        "    validation_split=0.2,\n",
        "    subset=\"validation\",\n",
        "    seed=SEED,\n",
        "    image_size=IMAGE_SIZE,\n",
        "    batch_size=BATCH_SIZE,\n",
        "    shuffle=True\n",
        ")\n",
        "\n",
        "test_ds_2 = image_dataset_from_directory(\n",
        "    test_dir_2,\n",
        "    image_size=IMAGE_SIZE,\n",
        "    batch_size=BATCH_SIZE,\n",
        "    shuffle=False\n",
        ")"
      ],
      "metadata": {
        "id": "WGkKEBYd27_z",
        "colab": {
          "base_uri": "https://localhost:8080/"
        },
        "outputId": "a0d43e07-3355-448b-9072-cc7028e481fe"
      },
      "execution_count": 7,
      "outputs": [
        {
          "output_type": "stream",
          "name": "stdout",
          "text": [
            "Found 23425 files belonging to 28 classes.\n",
            "Using 18740 files for training.\n",
            "Found 23425 files belonging to 28 classes.\n",
            "Using 4685 files for validation.\n",
            "Found 5849 files belonging to 28 classes.\n"
          ]
        }
      ]
    },
    {
      "cell_type": "code",
      "source": [
        "# .class_names kaybolmadan önce bu değerleri kaydediyoruz\n",
        "class_names_1 = train_ds_1.class_names\n",
        "num_classes_1 = len(class_names_1)\n",
        "test_class_names_1 = test_ds_1.class_names\n",
        "test_num_classes_1 = len(test_class_names_1)\n",
        "\n",
        "class_names_2 = train_ds_2.class_names\n",
        "num_classes_2 = len(class_names_2)\n",
        "test_class_names_2 = test_ds_2.class_names\n",
        "test_num_classes_2 = len(test_class_names_2)\n",
        "\n",
        "\n",
        "print(\"Fresh_and_Rotten sınıfları:\", class_names_1)\n",
        "print(\"Sınıf sayısı:\", num_classes_1)\n",
        "print(\"Test sınıfları:\", test_class_names_1)\n",
        "print(\"Test sınıf sayısı:\", test_num_classes_1)\n",
        "\n",
        "\n",
        "print(\"Fruit_and_Veg_Disease sınıfları:\", class_names_2)\n",
        "print(\"Sınıf sayısı:\", num_classes_2)\n",
        "print(\"Test sınıfları:\", test_class_names_2)\n",
        "print(\"Test sınıf sayısı:\", test_num_classes_2)\n",
        "\n"
      ],
      "metadata": {
        "id": "rV_e1olQIMDX",
        "colab": {
          "base_uri": "https://localhost:8080/"
        },
        "outputId": "2a9c4830-f26e-4f73-d503-957239be285b"
      },
      "execution_count": 8,
      "outputs": [
        {
          "output_type": "stream",
          "name": "stdout",
          "text": [
            "Fresh_and_Rotten sınıfları: ['freshapples', 'freshbanana', 'freshcucumber', 'freshokra', 'freshoranges', 'freshpotato', 'freshtomato', 'rottenapples', 'rottenbanana', 'rottencucumber', 'rottenokra', 'rottenoranges', 'rottenpotato', 'rottentomato']\n",
            "Sınıf sayısı: 14\n",
            "Test sınıfları: ['freshapples', 'freshbanana', 'freshcucumber', 'freshokra', 'freshoranges', 'freshpotato', 'freshtomato', 'rottenapples', 'rottenbanana', 'rottencucumber', 'rottenokra', 'rottenoranges', 'rottenpotato', 'rottentomato']\n",
            "Test sınıf sayısı: 14\n",
            "Fruit_and_Veg_Disease sınıfları: ['Apple__Healthy', 'Apple__Rotten', 'Banana__Healthy', 'Banana__Rotten', 'Bellpepper__Healthy', 'Bellpepper__Rotten', 'Carrot__Healthy', 'Carrot__Rotten', 'Cucumber__Healthy', 'Cucumber__Rotten', 'Grape__Healthy', 'Grape__Rotten', 'Guava__Healthy', 'Guava__Rotten', 'Jujube__Healthy', 'Jujube__Rotten', 'Mango__Healthy', 'Mango__Rotten', 'Orange__Healthy', 'Orange__Rotten', 'Pomegranate__Healthy', 'Pomegranate__Rotten', 'Potato__Healthy', 'Potato__Rotten', 'Strawberry__Healthy', 'Strawberry__Rotten', 'Tomato__Healthy', 'Tomato__Rotten']\n",
            "Sınıf sayısı: 28\n",
            "Test sınıfları: ['Apple__Healthy', 'Apple__Rotten', 'Banana__Healthy', 'Banana__Rotten', 'Bellpepper__Healthy', 'Bellpepper__Rotten', 'Carrot__Healthy', 'Carrot__Rotten', 'Cucumber__Healthy', 'Cucumber__Rotten', 'Grape__Healthy', 'Grape__Rotten', 'Guava__Healthy', 'Guava__Rotten', 'Jujube__Healthy', 'Jujube__Rotten', 'Mango__Healthy', 'Mango__Rotten', 'Orange__Healthy', 'Orange__Rotten', 'Pomegranate__Healthy', 'Pomegranate__Rotten', 'Potato__Healthy', 'Potato__Rotten', 'Strawberry__Healthy', 'Strawberry__Rotten', 'Tomato__Healthy', 'Tomato__Rotten']\n",
            "Test sınıf sayısı: 28\n"
          ]
        }
      ]
    },
    {
      "cell_type": "code",
      "source": [
        "def normalize_images(image, label):\n",
        "    image = image / 255.0\n",
        "    return image, label\n",
        "\n",
        "# 1. Dataset\n",
        "train_ds_1 = train_ds_1.map(normalize_images)\n",
        "val_ds_1 = val_ds_1.map(normalize_images)\n",
        "test_ds_1 = test_ds_1.map(normalize_images)\n",
        "\n",
        "# 2. Dataset\n",
        "train_ds_2 = train_ds_2.map(normalize_images)\n",
        "val_ds_2 = val_ds_2.map(normalize_images)\n",
        "test_ds_2 = test_ds_2.map(normalize_images)\n"
      ],
      "metadata": {
        "id": "B7Bn68T44FFn"
      },
      "execution_count": 9,
      "outputs": []
    },
    {
      "cell_type": "code",
      "source": [
        "# CNN Modeli\n",
        "def create_cnn_model(num_classes):\n",
        "    model = Sequential()\n",
        "\n",
        "    model.add(Conv2D(32, (3, 3), activation='relu', input_shape=(224, 224, 3)))\n",
        "    model.add(MaxPooling2D())\n",
        "\n",
        "    model.add(Conv2D(64, (3, 3), activation='relu'))\n",
        "    model.add(MaxPooling2D())\n",
        "\n",
        "    model.add(Conv2D(128, (3, 3), activation='relu'))\n",
        "    model.add(MaxPooling2D())\n",
        "\n",
        "    model.add(Flatten())\n",
        "    model.add(Dense(192, activation='relu'))\n",
        "    model.add(Dense(num_classes, activation='softmax'))\n",
        "\n",
        "    optimizer = SGD(learning_rate=0.01)\n",
        "    model.compile(optimizer=optimizer,\n",
        "                  loss='sparse_categorical_crossentropy',\n",
        "                  metrics=['accuracy'])\n",
        "\n",
        "    return model"
      ],
      "metadata": {
        "id": "rAXNzt_74Gx_"
      },
      "execution_count": 10,
      "outputs": []
    },
    {
      "cell_type": "code",
      "source": [
        "os.makedirs(\"saved_models\", exist_ok=True)\n",
        "#\"Fresh_and_Rotten\": (train_ds_1, val_ds_1, test_ds_1, num_classes_1),\n",
        "#\"Fruit_And_Veg_Disease\": (train_ds_2, val_ds_2, test_ds_2, num_classes_2)\n",
        "datasets = {\n",
        "    \"Fresh_and_Rotten\": (train_ds_1, val_ds_1, test_ds_1, num_classes_1),\n",
        "    \"Fruit_And_Veg_Disease\": (train_ds_2, val_ds_2, test_ds_2, num_classes_2)\n",
        "}\n",
        "\n",
        "\n",
        "for name, (train_ds, val_ds, test_ds, num_classes) in datasets.items():\n",
        "    print(f\"\\nEğitim Başladı - {name}\")\n",
        "\n",
        "    model = create_cnn_model(num_classes)\n",
        "\n",
        "    checkpoint_path = f\"saved_models/cnn_model_{name}.keras\"\n",
        "\n",
        "    callbacks = [\n",
        "        EarlyStopping(monitor='val_loss', patience=5, restore_best_weights=True),\n",
        "        ModelCheckpoint(filepath=checkpoint_path, monitor='val_accuracy', save_best_only=True)\n",
        "    ]\n",
        "\n",
        "    history = model.fit(\n",
        "        train_ds,\n",
        "        validation_data=val_ds,\n",
        "        epochs=EPOCHS,\n",
        "        callbacks=callbacks\n",
        "    )\n",
        "\n",
        "    loss, acc = model.evaluate(test_ds)\n",
        "    print(f\"{name} için Test Doğruluğu: {acc:.4f}\")\n",
        "\n"
      ],
      "metadata": {
        "id": "gWQtI9zQ4Ika",
        "colab": {
          "base_uri": "https://localhost:8080/"
        },
        "outputId": "af70b8c0-5130-413e-918d-678b5aec43d5"
      },
      "execution_count": 11,
      "outputs": [
        {
          "output_type": "stream",
          "name": "stdout",
          "text": [
            "\n",
            "Eğitim Başladı - Fresh_and_Rotten\n"
          ]
        },
        {
          "output_type": "stream",
          "name": "stderr",
          "text": [
            "/usr/local/lib/python3.11/dist-packages/keras/src/layers/convolutional/base_conv.py:113: UserWarning: Do not pass an `input_shape`/`input_dim` argument to a layer. When using Sequential models, prefer using an `Input(shape)` object as the first layer in the model instead.\n",
            "  super().__init__(activity_regularizer=activity_regularizer, **kwargs)\n"
          ]
        },
        {
          "output_type": "stream",
          "name": "stdout",
          "text": [
            "Epoch 1/50\n",
            "\u001b[1m132/132\u001b[0m \u001b[32m━━━━━━━━━━━━━━━━━━━━\u001b[0m\u001b[37m\u001b[0m \u001b[1m34s\u001b[0m 160ms/step - accuracy: 0.2798 - loss: 2.2097 - val_accuracy: 0.5067 - val_loss: 1.3787\n",
            "Epoch 2/50\n",
            "\u001b[1m132/132\u001b[0m \u001b[32m━━━━━━━━━━━━━━━━━━━━\u001b[0m\u001b[37m\u001b[0m \u001b[1m8s\u001b[0m 62ms/step - accuracy: 0.5170 - loss: 1.3301 - val_accuracy: 0.5520 - val_loss: 1.1938\n",
            "Epoch 3/50\n",
            "\u001b[1m132/132\u001b[0m \u001b[32m━━━━━━━━━━━━━━━━━━━━\u001b[0m\u001b[37m\u001b[0m \u001b[1m8s\u001b[0m 64ms/step - accuracy: 0.6327 - loss: 0.9867 - val_accuracy: 0.6823 - val_loss: 0.8456\n",
            "Epoch 4/50\n",
            "\u001b[1m132/132\u001b[0m \u001b[32m━━━━━━━━━━━━━━━━━━━━\u001b[0m\u001b[37m\u001b[0m \u001b[1m8s\u001b[0m 62ms/step - accuracy: 0.7154 - loss: 0.7608 - val_accuracy: 0.7341 - val_loss: 0.6707\n",
            "Epoch 5/50\n",
            "\u001b[1m132/132\u001b[0m \u001b[32m━━━━━━━━━━━━━━━━━━━━\u001b[0m\u001b[37m\u001b[0m \u001b[1m8s\u001b[0m 62ms/step - accuracy: 0.7605 - loss: 0.6462 - val_accuracy: 0.6977 - val_loss: 0.8456\n",
            "Epoch 6/50\n",
            "\u001b[1m132/132\u001b[0m \u001b[32m━━━━━━━━━━━━━━━━━━━━\u001b[0m\u001b[37m\u001b[0m \u001b[1m8s\u001b[0m 63ms/step - accuracy: 0.7769 - loss: 0.6043 - val_accuracy: 0.7871 - val_loss: 0.5736\n",
            "Epoch 7/50\n",
            "\u001b[1m132/132\u001b[0m \u001b[32m━━━━━━━━━━━━━━━━━━━━\u001b[0m\u001b[37m\u001b[0m \u001b[1m8s\u001b[0m 63ms/step - accuracy: 0.8121 - loss: 0.5117 - val_accuracy: 0.8094 - val_loss: 0.4970\n",
            "Epoch 8/50\n",
            "\u001b[1m132/132\u001b[0m \u001b[32m━━━━━━━━━━━━━━━━━━━━\u001b[0m\u001b[37m\u001b[0m \u001b[1m8s\u001b[0m 63ms/step - accuracy: 0.8356 - loss: 0.4465 - val_accuracy: 0.8201 - val_loss: 0.5101\n",
            "Epoch 9/50\n",
            "\u001b[1m132/132\u001b[0m \u001b[32m━━━━━━━━━━━━━━━━━━━━\u001b[0m\u001b[37m\u001b[0m \u001b[1m8s\u001b[0m 62ms/step - accuracy: 0.8415 - loss: 0.4390 - val_accuracy: 0.8600 - val_loss: 0.3998\n",
            "Epoch 10/50\n",
            "\u001b[1m132/132\u001b[0m \u001b[32m━━━━━━━━━━━━━━━━━━━━\u001b[0m\u001b[37m\u001b[0m \u001b[1m8s\u001b[0m 62ms/step - accuracy: 0.8674 - loss: 0.3592 - val_accuracy: 0.8317 - val_loss: 0.5111\n",
            "Epoch 11/50\n",
            "\u001b[1m132/132\u001b[0m \u001b[32m━━━━━━━━━━━━━━━━━━━━\u001b[0m\u001b[37m\u001b[0m \u001b[1m8s\u001b[0m 62ms/step - accuracy: 0.8738 - loss: 0.3400 - val_accuracy: 0.8712 - val_loss: 0.3530\n",
            "Epoch 12/50\n",
            "\u001b[1m132/132\u001b[0m \u001b[32m━━━━━━━━━━━━━━━━━━━━\u001b[0m\u001b[37m\u001b[0m \u001b[1m8s\u001b[0m 62ms/step - accuracy: 0.8843 - loss: 0.3081 - val_accuracy: 0.7671 - val_loss: 0.7008\n",
            "Epoch 13/50\n",
            "\u001b[1m132/132\u001b[0m \u001b[32m━━━━━━━━━━━━━━━━━━━━\u001b[0m\u001b[37m\u001b[0m \u001b[1m8s\u001b[0m 62ms/step - accuracy: 0.8846 - loss: 0.3437 - val_accuracy: 0.8306 - val_loss: 0.4985\n",
            "Epoch 14/50\n",
            "\u001b[1m132/132\u001b[0m \u001b[32m━━━━━━━━━━━━━━━━━━━━\u001b[0m\u001b[37m\u001b[0m \u001b[1m8s\u001b[0m 63ms/step - accuracy: 0.9069 - loss: 0.2559 - val_accuracy: 0.8907 - val_loss: 0.2944\n",
            "Epoch 15/50\n",
            "\u001b[1m132/132\u001b[0m \u001b[32m━━━━━━━━━━━━━━━━━━━━\u001b[0m\u001b[37m\u001b[0m \u001b[1m8s\u001b[0m 64ms/step - accuracy: 0.9173 - loss: 0.2254 - val_accuracy: 0.8935 - val_loss: 0.2813\n",
            "Epoch 16/50\n",
            "\u001b[1m132/132\u001b[0m \u001b[32m━━━━━━━━━━━━━━━━━━━━\u001b[0m\u001b[37m\u001b[0m \u001b[1m8s\u001b[0m 60ms/step - accuracy: 0.9123 - loss: 0.2422 - val_accuracy: 0.8702 - val_loss: 0.3744\n",
            "Epoch 17/50\n",
            "\u001b[1m132/132\u001b[0m \u001b[32m━━━━━━━━━━━━━━━━━━━━\u001b[0m\u001b[37m\u001b[0m \u001b[1m8s\u001b[0m 64ms/step - accuracy: 0.9244 - loss: 0.2082 - val_accuracy: 0.8983 - val_loss: 0.2769\n",
            "Epoch 18/50\n",
            "\u001b[1m132/132\u001b[0m \u001b[32m━━━━━━━━━━━━━━━━━━━━\u001b[0m\u001b[37m\u001b[0m \u001b[1m8s\u001b[0m 59ms/step - accuracy: 0.9398 - loss: 0.1689 - val_accuracy: 0.8676 - val_loss: 0.3682\n",
            "Epoch 19/50\n",
            "\u001b[1m132/132\u001b[0m \u001b[32m━━━━━━━━━━━━━━━━━━━━\u001b[0m\u001b[37m\u001b[0m \u001b[1m8s\u001b[0m 62ms/step - accuracy: 0.9366 - loss: 0.1749 - val_accuracy: 0.8653 - val_loss: 0.3869\n",
            "Epoch 20/50\n",
            "\u001b[1m132/132\u001b[0m \u001b[32m━━━━━━━━━━━━━━━━━━━━\u001b[0m\u001b[37m\u001b[0m \u001b[1m8s\u001b[0m 60ms/step - accuracy: 0.9431 - loss: 0.1577 - val_accuracy: 0.8885 - val_loss: 0.2953\n",
            "Epoch 21/50\n",
            "\u001b[1m132/132\u001b[0m \u001b[32m━━━━━━━━━━━━━━━━━━━━\u001b[0m\u001b[37m\u001b[0m \u001b[1m8s\u001b[0m 63ms/step - accuracy: 0.9485 - loss: 0.1414 - val_accuracy: 0.9194 - val_loss: 0.2180\n",
            "Epoch 22/50\n",
            "\u001b[1m132/132\u001b[0m \u001b[32m━━━━━━━━━━━━━━━━━━━━\u001b[0m\u001b[37m\u001b[0m \u001b[1m8s\u001b[0m 61ms/step - accuracy: 0.9545 - loss: 0.1254 - val_accuracy: 0.9194 - val_loss: 0.2242\n",
            "Epoch 23/50\n",
            "\u001b[1m132/132\u001b[0m \u001b[32m━━━━━━━━━━━━━━━━━━━━\u001b[0m\u001b[37m\u001b[0m \u001b[1m8s\u001b[0m 62ms/step - accuracy: 0.9576 - loss: 0.1196 - val_accuracy: 0.9304 - val_loss: 0.1986\n",
            "Epoch 24/50\n",
            "\u001b[1m132/132\u001b[0m \u001b[32m━━━━━━━━━━━━━━━━━━━━\u001b[0m\u001b[37m\u001b[0m \u001b[1m8s\u001b[0m 62ms/step - accuracy: 0.9242 - loss: 0.3435 - val_accuracy: 0.7971 - val_loss: 0.5211\n",
            "Epoch 25/50\n",
            "\u001b[1m132/132\u001b[0m \u001b[32m━━━━━━━━━━━━━━━━━━━━\u001b[0m\u001b[37m\u001b[0m \u001b[1m8s\u001b[0m 59ms/step - accuracy: 0.8740 - loss: 0.3503 - val_accuracy: 0.8574 - val_loss: 0.3883\n",
            "Epoch 26/50\n",
            "\u001b[1m132/132\u001b[0m \u001b[32m━━━━━━━━━━━━━━━━━━━━\u001b[0m\u001b[37m\u001b[0m \u001b[1m8s\u001b[0m 62ms/step - accuracy: 0.9157 - loss: 0.2385 - val_accuracy: 0.8838 - val_loss: 0.3111\n",
            "Epoch 27/50\n",
            "\u001b[1m132/132\u001b[0m \u001b[32m━━━━━━━━━━━━━━━━━━━━\u001b[0m\u001b[37m\u001b[0m \u001b[1m8s\u001b[0m 60ms/step - accuracy: 0.9405 - loss: 0.1730 - val_accuracy: 0.8947 - val_loss: 0.2977\n",
            "Epoch 28/50\n",
            "\u001b[1m132/132\u001b[0m \u001b[32m━━━━━━━━━━━━━━━━━━━━\u001b[0m\u001b[37m\u001b[0m \u001b[1m8s\u001b[0m 61ms/step - accuracy: 0.9501 - loss: 0.1478 - val_accuracy: 0.9161 - val_loss: 0.2342\n",
            "\u001b[1m53/53\u001b[0m \u001b[32m━━━━━━━━━━━━━━━━━━━━\u001b[0m\u001b[37m\u001b[0m \u001b[1m5s\u001b[0m 95ms/step - accuracy: 0.9602 - loss: 0.1218\n",
            "Fresh_and_Rotten için Test Doğruluğu: 0.9369\n",
            "\n",
            "Eğitim Başladı - Fruit_And_Veg_Disease\n",
            "Epoch 1/50\n",
            "\u001b[1m147/147\u001b[0m \u001b[32m━━━━━━━━━━━━━━━━━━━━\u001b[0m\u001b[37m\u001b[0m \u001b[1m33s\u001b[0m 174ms/step - accuracy: 0.1446 - loss: 2.9082 - val_accuracy: 0.2568 - val_loss: 2.5228\n",
            "Epoch 2/50\n",
            "\u001b[1m147/147\u001b[0m \u001b[32m━━━━━━━━━━━━━━━━━━━━\u001b[0m\u001b[37m\u001b[0m \u001b[1m15s\u001b[0m 103ms/step - accuracy: 0.2760 - loss: 2.4307 - val_accuracy: 0.3118 - val_loss: 2.2645\n",
            "Epoch 3/50\n",
            "\u001b[1m147/147\u001b[0m \u001b[32m━━━━━━━━━━━━━━━━━━━━\u001b[0m\u001b[37m\u001b[0m \u001b[1m15s\u001b[0m 104ms/step - accuracy: 0.3513 - loss: 2.1758 - val_accuracy: 0.3842 - val_loss: 2.0745\n",
            "Epoch 4/50\n",
            "\u001b[1m147/147\u001b[0m \u001b[32m━━━━━━━━━━━━━━━━━━━━\u001b[0m\u001b[37m\u001b[0m \u001b[1m15s\u001b[0m 101ms/step - accuracy: 0.4110 - loss: 1.9670 - val_accuracy: 0.3110 - val_loss: 2.3491\n",
            "Epoch 5/50\n",
            "\u001b[1m147/147\u001b[0m \u001b[32m━━━━━━━━━━━━━━━━━━━━\u001b[0m\u001b[37m\u001b[0m \u001b[1m15s\u001b[0m 103ms/step - accuracy: 0.4777 - loss: 1.7581 - val_accuracy: 0.4739 - val_loss: 1.7485\n",
            "Epoch 6/50\n",
            "\u001b[1m147/147\u001b[0m \u001b[32m━━━━━━━━━━━━━━━━━━━━\u001b[0m\u001b[37m\u001b[0m \u001b[1m15s\u001b[0m 103ms/step - accuracy: 0.5494 - loss: 1.5245 - val_accuracy: 0.5603 - val_loss: 1.4742\n",
            "Epoch 7/50\n",
            "\u001b[1m147/147\u001b[0m \u001b[32m━━━━━━━━━━━━━━━━━━━━\u001b[0m\u001b[37m\u001b[0m \u001b[1m15s\u001b[0m 104ms/step - accuracy: 0.6085 - loss: 1.3211 - val_accuracy: 0.5778 - val_loss: 1.4077\n",
            "Epoch 8/50\n",
            "\u001b[1m147/147\u001b[0m \u001b[32m━━━━━━━━━━━━━━━━━━━━\u001b[0m\u001b[37m\u001b[0m \u001b[1m15s\u001b[0m 104ms/step - accuracy: 0.6583 - loss: 1.1543 - val_accuracy: 0.5940 - val_loss: 1.3386\n",
            "Epoch 9/50\n",
            "\u001b[1m147/147\u001b[0m \u001b[32m━━━━━━━━━━━━━━━━━━━━\u001b[0m\u001b[37m\u001b[0m \u001b[1m16s\u001b[0m 105ms/step - accuracy: 0.7075 - loss: 0.9688 - val_accuracy: 0.6446 - val_loss: 1.1311\n",
            "Epoch 10/50\n",
            "\u001b[1m147/147\u001b[0m \u001b[32m━━━━━━━━━━━━━━━━━━━━\u001b[0m\u001b[37m\u001b[0m \u001b[1m15s\u001b[0m 103ms/step - accuracy: 0.7360 - loss: 0.8498 - val_accuracy: 0.6632 - val_loss: 1.0725\n",
            "Epoch 11/50\n",
            "\u001b[1m147/147\u001b[0m \u001b[32m━━━━━━━━━━━━━━━━━━━━\u001b[0m\u001b[37m\u001b[0m \u001b[1m16s\u001b[0m 105ms/step - accuracy: 0.7689 - loss: 0.7645 - val_accuracy: 0.7383 - val_loss: 0.8547\n",
            "Epoch 12/50\n",
            "\u001b[1m147/147\u001b[0m \u001b[32m━━━━━━━━━━━━━━━━━━━━\u001b[0m\u001b[37m\u001b[0m \u001b[1m15s\u001b[0m 101ms/step - accuracy: 0.8086 - loss: 0.6341 - val_accuracy: 0.7349 - val_loss: 0.9080\n",
            "Epoch 13/50\n",
            "\u001b[1m147/147\u001b[0m \u001b[32m━━━━━━━━━━━━━━━━━━━━\u001b[0m\u001b[37m\u001b[0m \u001b[1m15s\u001b[0m 103ms/step - accuracy: 0.8188 - loss: 0.5745 - val_accuracy: 0.6928 - val_loss: 1.0891\n",
            "Epoch 14/50\n",
            "\u001b[1m147/147\u001b[0m \u001b[32m━━━━━━━━━━━━━━━━━━━━\u001b[0m\u001b[37m\u001b[0m \u001b[1m15s\u001b[0m 101ms/step - accuracy: 0.8421 - loss: 0.4940 - val_accuracy: 0.7334 - val_loss: 0.9403\n",
            "Epoch 15/50\n",
            "\u001b[1m147/147\u001b[0m \u001b[32m━━━━━━━━━━━━━━━━━━━━\u001b[0m\u001b[37m\u001b[0m \u001b[1m15s\u001b[0m 102ms/step - accuracy: 0.8693 - loss: 0.4121 - val_accuracy: 0.6920 - val_loss: 1.1801\n",
            "Epoch 16/50\n",
            "\u001b[1m147/147\u001b[0m \u001b[32m━━━━━━━━━━━━━━━━━━━━\u001b[0m\u001b[37m\u001b[0m \u001b[1m15s\u001b[0m 103ms/step - accuracy: 0.8884 - loss: 0.3626 - val_accuracy: 0.8006 - val_loss: 0.6954\n",
            "Epoch 17/50\n",
            "\u001b[1m147/147\u001b[0m \u001b[32m━━━━━━━━━━━━━━━━━━━━\u001b[0m\u001b[37m\u001b[0m \u001b[1m15s\u001b[0m 101ms/step - accuracy: 0.9057 - loss: 0.3049 - val_accuracy: 0.7972 - val_loss: 0.7422\n",
            "Epoch 18/50\n",
            "\u001b[1m147/147\u001b[0m \u001b[32m━━━━━━━━━━━━━━━━━━━━\u001b[0m\u001b[37m\u001b[0m \u001b[1m16s\u001b[0m 105ms/step - accuracy: 0.9344 - loss: 0.2236 - val_accuracy: 0.8267 - val_loss: 0.6453\n",
            "Epoch 19/50\n",
            "\u001b[1m147/147\u001b[0m \u001b[32m━━━━━━━━━━━━━━━━━━━━\u001b[0m\u001b[37m\u001b[0m \u001b[1m15s\u001b[0m 101ms/step - accuracy: 0.9411 - loss: 0.2034 - val_accuracy: 0.7763 - val_loss: 0.8396\n",
            "Epoch 20/50\n",
            "\u001b[1m147/147\u001b[0m \u001b[32m━━━━━━━━━━━━━━━━━━━━\u001b[0m\u001b[37m\u001b[0m \u001b[1m15s\u001b[0m 105ms/step - accuracy: 0.9491 - loss: 0.1763 - val_accuracy: 0.8277 - val_loss: 0.6775\n",
            "Epoch 21/50\n",
            "\u001b[1m147/147\u001b[0m \u001b[32m━━━━━━━━━━━━━━━━━━━━\u001b[0m\u001b[37m\u001b[0m \u001b[1m15s\u001b[0m 104ms/step - accuracy: 0.9632 - loss: 0.1304 - val_accuracy: 0.8348 - val_loss: 0.6313\n",
            "Epoch 22/50\n",
            "\u001b[1m147/147\u001b[0m \u001b[32m━━━━━━━━━━━━━━━━━━━━\u001b[0m\u001b[37m\u001b[0m \u001b[1m15s\u001b[0m 101ms/step - accuracy: 0.9762 - loss: 0.0990 - val_accuracy: 0.8055 - val_loss: 0.8339\n",
            "Epoch 23/50\n",
            "\u001b[1m147/147\u001b[0m \u001b[32m━━━━━━━━━━━━━━━━━━━━\u001b[0m\u001b[37m\u001b[0m \u001b[1m15s\u001b[0m 103ms/step - accuracy: 0.9720 - loss: 0.1058 - val_accuracy: 0.8393 - val_loss: 0.6538\n",
            "Epoch 24/50\n",
            "\u001b[1m147/147\u001b[0m \u001b[32m━━━━━━━━━━━━━━━━━━━━\u001b[0m\u001b[37m\u001b[0m \u001b[1m15s\u001b[0m 105ms/step - accuracy: 0.9883 - loss: 0.0515 - val_accuracy: 0.8418 - val_loss: 0.6804\n",
            "Epoch 25/50\n",
            "\u001b[1m147/147\u001b[0m \u001b[32m━━━━━━━━━━━━━━━━━━━━\u001b[0m\u001b[37m\u001b[0m \u001b[1m15s\u001b[0m 103ms/step - accuracy: 0.9898 - loss: 0.0492 - val_accuracy: 0.8546 - val_loss: 0.6489\n",
            "Epoch 26/50\n",
            "\u001b[1m147/147\u001b[0m \u001b[32m━━━━━━━━━━━━━━━━━━━━\u001b[0m\u001b[37m\u001b[0m \u001b[1m15s\u001b[0m 101ms/step - accuracy: 0.9934 - loss: 0.0344 - val_accuracy: 0.8493 - val_loss: 0.6838\n",
            "\u001b[1m46/46\u001b[0m \u001b[32m━━━━━━━━━━━━━━━━━━━━\u001b[0m\u001b[37m\u001b[0m \u001b[1m7s\u001b[0m 141ms/step - accuracy: 0.8692 - loss: 0.5163\n",
            "Fruit_And_Veg_Disease için Test Doğruluğu: 0.8429\n"
          ]
        }
      ]
    }
  ]
}