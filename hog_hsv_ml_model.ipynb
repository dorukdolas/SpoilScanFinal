{
  "nbformat": 4,
  "nbformat_minor": 0,
  "metadata": {
    "colab": {
      "provenance": [],
      "machine_shape": "hm"
    },
    "kernelspec": {
      "name": "python3",
      "display_name": "Python 3"
    },
    "language_info": {
      "name": "python"
    }
  },
  "cells": [
    {
      "cell_type": "code",
      "source": [
        "from google.colab import drive\n",
        "import zipfile\n",
        "import os\n",
        "\n",
        "# Google Drive'ı bağla\n",
        "drive.mount('/content/drive')\n",
        "\n",
        "# Dataset 1: Fresh_and_Rotten_Classification\n",
        "zip_path1 = \"/content/drive/MyDrive/Colab Notebooks/Fresh_and_Rotten_Classification.zip\"\n",
        "extract_path1 = \"/content/Fresh_and_Rotten_Classification\"\n",
        "\n",
        "if not os.path.exists(extract_path1):\n",
        "    with zipfile.ZipFile(zip_path1, 'r') as zip_ref:\n",
        "        zip_ref.extractall(extract_path1)\n",
        "    print(f\"dataset1 çıkartıldı: {extract_path1}\")\n",
        "else:\n",
        "    print(f\"dataset1 zaten mevcut, tekrar çıkartılmadı: {extract_path1}\")\n",
        "\n",
        "# Dataset 2: Fruit_And_Vegetable_Diseases_Dataset\n",
        "zip_path2 = \"/content/drive/MyDrive/Colab Notebooks/Fruit_And_Vegetable_Diseases_Dataset.zip\"\n",
        "extract_path2 = \"/content/Fruit_And_Vegetable_Diseases_Dataset\"\n",
        "\n",
        "if not os.path.exists(extract_path2):\n",
        "    with zipfile.ZipFile(zip_path2, 'r') as zip_ref:\n",
        "        zip_ref.extractall(extract_path2)\n",
        "    print(f\"dataset2 çıkartıldı: {extract_path2}\")\n",
        "else:\n",
        "    print(f\"dataset2 zaten mevcut, tekrar çıkartılmadı: {extract_path2}\")\n"
      ],
      "metadata": {
        "colab": {
          "base_uri": "https://localhost:8080/"
        },
        "id": "paN9f2N0sXs_",
        "outputId": "d73d4e4e-4c8b-4d25-9d84-d0d7db6d2025"
      },
      "execution_count": 111,
      "outputs": [
        {
          "output_type": "stream",
          "name": "stdout",
          "text": [
            "Drive already mounted at /content/drive; to attempt to forcibly remount, call drive.mount(\"/content/drive\", force_remount=True).\n",
            "dataset1 zaten mevcut, tekrar çıkartılmadı: /content/Fresh_and_Rotten_Classification\n",
            "dataset2 zaten mevcut, tekrar çıkartılmadı: /content/Fruit_And_Vegetable_Diseases_Dataset\n"
          ]
        }
      ]
    },
    {
      "cell_type": "code",
      "source": [
        "import tensorflow as tf\n",
        "\n",
        "def find_tf_bozuk_gorseller(root_dir):\n",
        "    bozuklar = []\n",
        "\n",
        "    for class_dir in os.listdir(root_dir):\n",
        "        class_path = os.path.join(root_dir, class_dir)\n",
        "        if not os.path.isdir(class_path):\n",
        "            continue\n",
        "\n",
        "        for file in os.listdir(class_path):\n",
        "            file_path = os.path.join(class_path, file)\n",
        "            try:\n",
        "                img_raw = tf.io.read_file(file_path)\n",
        "                _ = tf.image.decode_image(img_raw)  # TensorFlow'un kendi decoder'ı\n",
        "            except Exception as e:\n",
        "                print(f\"TF bozuk: {file_path} - {e}\")\n",
        "                bozuklar.append(file_path)\n",
        "\n",
        "    print(f\"\\nTensorFlow tarafından okunamayan dosya sayısı: {len(bozuklar)}\")\n",
        "    for f in bozuklar:\n",
        "      try:\n",
        "          os.remove(f)\n",
        "          print(f\"Silindi: {f}\")\n",
        "      except Exception as e:\n",
        "          print(f\"Silinemedi: {f} - {e}\")\n",
        "\n",
        "    return bozuklar\n",
        "\n",
        "#bozuklar = find_tf_bozuk_gorseller(\"/content/Fruit_And_Vegetable_Diseases_Dataset/Fruit_And_Vegetable_Diseases_Dataset/Test\")\n",
        "#bozuklar = find_tf_bozuk_gorseller(\"/content/Fruit_And_Vegetable_Diseases_Dataset/Fruit_And_Vegetable_Diseases_Dataset/Train\")\n"
      ],
      "metadata": {
        "id": "0rM6a8-4xKth"
      },
      "execution_count": 112,
      "outputs": []
    },
    {
      "cell_type": "code",
      "execution_count": 113,
      "metadata": {
        "id": "IU6WV5MLpTjQ"
      },
      "outputs": [],
      "source": [
        "import os\n",
        "import cv2\n",
        "import numpy as np\n",
        "from tqdm import tqdm\n",
        "from skimage.feature import hog\n",
        "from sklearn.decomposition import PCA\n",
        "from sklearn.ensemble import RandomForestClassifier\n",
        "from sklearn.metrics import accuracy_score, classification_report\n",
        "from sklearn.model_selection import train_test_split\n",
        "import pickle"
      ]
    },
    {
      "cell_type": "code",
      "source": [
        "def extract_hsv(img):\n",
        "    hsv = cv2.cvtColor(img, cv2.COLOR_BGR2HSV)\n",
        "    hsv_hist = cv2.calcHist(\n",
        "        [hsv], [0, 1, 2], None,\n",
        "        [8, 8, 8],\n",
        "        [0, 180, 0, 256, 0, 256]\n",
        "    ).flatten()\n",
        "    return hsv_hist\n",
        "\n",
        "def extract_hog(img):\n",
        "    gray = cv2.cvtColor(img, cv2.COLOR_BGR2GRAY)\n",
        "    hog_feat = hog(\n",
        "        gray,\n",
        "        orientations=6,\n",
        "        pixels_per_cell=(8, 8),\n",
        "        cells_per_block=(2, 2),\n",
        "        block_norm='L2-Hys',\n",
        "        feature_vector=True\n",
        "    )\n",
        "    return hog_feat\n",
        "\n",
        "def extract_features(image_path):\n",
        "    img = cv2.imread(image_path)\n",
        "    if img is None:\n",
        "        return None, None\n",
        "    img = cv2.resize(img, (128, 128))\n",
        "    hsv_hist = extract_hsv(img)\n",
        "    hog_feat = extract_hog(img)\n",
        "    return hsv_hist, hog_feat\n"
      ],
      "metadata": {
        "id": "MAMijJzjpuZi"
      },
      "execution_count": 114,
      "outputs": []
    },
    {
      "cell_type": "code",
      "source": [
        "def load_dataset(root_path):\n",
        "    hsv_list, hog_list, labels = [], [], []\n",
        "    for label in tqdm(os.listdir(root_path)):\n",
        "        class_path = os.path.join(root_path, label)\n",
        "        if not os.path.isdir(class_path):\n",
        "            continue\n",
        "        for fname in os.listdir(class_path):\n",
        "            fpath = os.path.join(class_path, fname)\n",
        "            hsv_hist, hog_feat = extract_features(fpath)\n",
        "            if hsv_hist is not None:\n",
        "                hsv_list.append(hsv_hist)\n",
        "                hog_list.append(hog_feat)\n",
        "                labels.append(label)\n",
        "    return np.array(hsv_list), np.array(hog_list), np.array(labels)"
      ],
      "metadata": {
        "id": "T1eIvnm0pzK3"
      },
      "execution_count": 115,
      "outputs": []
    },
    {
      "cell_type": "code",
      "source": [
        "def prepare_with_hog_pca_then_add_hsv(Xhsv_tr, Xhsv_val, Xhog_tr, Xhog_val, n_components=200):\n",
        "\n",
        "    safe_nc = min(n_components, Xhog_tr.shape[1], max(1, Xhog_tr.shape[0]-1))\n",
        "    pca = PCA(n_components=safe_nc)\n",
        "    Xhog_tr_pca = pca.fit_transform(Xhog_tr)\n",
        "    Xhog_val_pca = pca.transform(Xhog_val)\n",
        "\n",
        "    Xtr_final  = np.concatenate([Xhog_tr_pca, Xhsv_tr], axis=1)\n",
        "    Xval_final = np.concatenate([Xhog_val_pca, Xhsv_val], axis=1)\n",
        "    return Xtr_final, Xval_final, pca"
      ],
      "metadata": {
        "id": "PTzjFZLdsCCQ"
      },
      "execution_count": 116,
      "outputs": []
    },
    {
      "cell_type": "code",
      "source": [
        "def build_final_features_with_pca(Xhsv, Xhog, fitted_pca):\n",
        "    Xhog_pca = fitted_pca.transform(Xhog)\n",
        "    return np.concatenate([Xhog_pca, Xhsv], axis=1)"
      ],
      "metadata": {
        "id": "wnPTFkO58wpF"
      },
      "execution_count": 117,
      "outputs": []
    },
    {
      "cell_type": "code",
      "source": [
        "def create_rf_model(n_estimators=100, max_depth=30, random_state=42):\n",
        "    return RandomForestClassifier(\n",
        "        n_estimators=n_estimators,\n",
        "        max_depth=max_depth,\n",
        "        random_state=random_state,\n",
        "        class_weight=\"balanced_subsample\",\n",
        "        n_jobs=-1,\n",
        "        verbose=1\n",
        "    )"
      ],
      "metadata": {
        "id": "PfewYnvRsDY_"
      },
      "execution_count": 118,
      "outputs": []
    },
    {
      "cell_type": "code",
      "source": [
        "# Dataset 1: Fresh vs Rotten Dataset\n",
        "print(\"Fresh vs Rotten Dataset\")\n",
        "train_dir1 = \"/content/Fresh_and_Rotten_Classification/Fresh_and_Rotten_Classification/Train\"\n",
        "\n",
        "X_hsv1, X_hog1, y1 = load_dataset(train_dir1)\n",
        "print(\"Toplam örnek:\", X_hsv1.shape[0])\n",
        "\n",
        "Xhsv_tr1, Xhsv_val1, Xhog_tr1, Xhog_val1, ytr1, yval1 = train_test_split(\n",
        "    X_hsv1, X_hog1, y1, test_size=0.2, random_state=42, stratify=y1\n",
        ")\n",
        "print(\"Eğitim boyutu:\", Xhsv_tr1.shape, \"Doğrulama boyutu:\", Xhsv_val1.shape)\n",
        "\n",
        "Xtr1, Xval1, pca1 = prepare_with_hog_pca_then_add_hsv(\n",
        "    Xhsv_tr1, Xhsv_val1, Xhog_tr1, Xhog_val1, n_components=50\n",
        ")\n",
        "print(\"X_train (birleşik):\", Xtr1.shape, \"X_val (birleşik):\", Xval1.shape)\n",
        "\n",
        "model1 = create_rf_model(n_estimators=100, max_depth=30)\n",
        "model1.fit(Xtr1, ytr1)\n",
        "y_pred1 = model1.predict(Xval1)\n",
        "\n",
        "with open(\"rf_fresh_and_rotten.pkl\", \"wb\") as f:\n",
        "    pickle.dump(model1, f)\n",
        "\n",
        "with open(\"pca_fresh_and_rotten.pkl\", \"wb\") as f:\n",
        "    pickle.dump(pca1, f)\n",
        "\n",
        "print(\"\\nDataset 1: Fresh vs Rotten (Validation)\")\n",
        "print(\"Doğruluk:\", accuracy_score(yval1, y_pred1))\n",
        "print(classification_report(yval1, y_pred1))"
      ],
      "metadata": {
        "colab": {
          "base_uri": "https://localhost:8080/"
        },
        "id": "7bI7kN983xoP",
        "outputId": "30641637-a96d-4755-a631-9fe1a3a43ad0"
      },
      "execution_count": 119,
      "outputs": [
        {
          "output_type": "stream",
          "name": "stdout",
          "text": [
            "Fresh vs Rotten Dataset\n"
          ]
        },
        {
          "output_type": "stream",
          "name": "stderr",
          "text": [
            "100%|██████████| 15/15 [02:42<00:00, 10.84s/it]\n"
          ]
        },
        {
          "output_type": "stream",
          "name": "stdout",
          "text": [
            "Toplam örnek: 21044\n",
            "Eğitim boyutu: (16835, 512) Doğrulama boyutu: (4209, 512)\n",
            "X_train (birleşik): (16835, 562) X_val (birleşik): (4209, 562)\n"
          ]
        },
        {
          "output_type": "stream",
          "name": "stderr",
          "text": [
            "[Parallel(n_jobs=-1)]: Using backend ThreadingBackend with 8 concurrent workers.\n",
            "[Parallel(n_jobs=-1)]: Done  34 tasks      | elapsed:    0.8s\n",
            "[Parallel(n_jobs=-1)]: Done 100 out of 100 | elapsed:    2.0s finished\n",
            "[Parallel(n_jobs=8)]: Using backend ThreadingBackend with 8 concurrent workers.\n",
            "[Parallel(n_jobs=8)]: Done  34 tasks      | elapsed:    0.0s\n",
            "[Parallel(n_jobs=8)]: Done 100 out of 100 | elapsed:    0.0s finished\n"
          ]
        },
        {
          "output_type": "stream",
          "name": "stdout",
          "text": [
            "\n",
            "Dataset 1: Fresh vs Rotten (Validation)\n",
            "Doğruluk: 0.9828937990021382\n",
            "                precision    recall  f1-score   support\n",
            "\n",
            "   freshapples       1.00      0.99      1.00       485\n",
            "   freshbanana       1.00      1.00      1.00       494\n",
            " freshcucumber       0.94      0.88      0.91        99\n",
            "     freshokra       0.86      0.95      0.90       127\n",
            "  freshoranges       1.00      1.00      1.00       293\n",
            "   freshpotato       0.85      0.89      0.87       107\n",
            "   freshtomato       1.00      1.00      1.00       372\n",
            "  rottenapples       1.00      1.00      1.00       650\n",
            "  rottenbanana       0.99      1.00      1.00       586\n",
            "rottencucumber       0.97      0.82      0.89        84\n",
            "    rottenokra       0.94      0.97      0.96        68\n",
            " rottenoranges       1.00      1.00      1.00       319\n",
            "  rottenpotato       0.90      0.88      0.89       160\n",
            "  rottentomato       1.00      0.99      1.00       365\n",
            "\n",
            "      accuracy                           0.98      4209\n",
            "     macro avg       0.96      0.96      0.96      4209\n",
            "  weighted avg       0.98      0.98      0.98      4209\n",
            "\n"
          ]
        }
      ]
    },
    {
      "cell_type": "code",
      "source": [
        "# Dataset 2: Fruit and Vegetable Diseases Dataset\n",
        "print(\"\\nFruit and Vegetable Diseases Dataset\")\n",
        "train_dir2 = \"/content/Fruit_And_Vegetable_Diseases_Dataset/Fruit_And_Vegetable_Diseases_Dataset/Train\"\n",
        "\n",
        "X_hsv2, X_hog2, y2 = load_dataset(train_dir2)\n",
        "print(\"Toplam örnek:\", X_hsv2.shape[0])\n",
        "\n",
        "Xhsv_tr2, Xhsv_val2, Xhog_tr2, Xhog_val2, ytr2, yval2 = train_test_split(\n",
        "    X_hsv2, X_hog2, y2, test_size=0.2, random_state=42, stratify=y2\n",
        ")\n",
        "print(\"Eğitim boyutu:\", Xhsv_tr2.shape, \"Doğrulama boyutu:\", Xhsv_val2.shape)\n",
        "\n",
        "Xtr2, Xval2, pca2 = prepare_with_hog_pca_then_add_hsv(\n",
        "    Xhsv_tr2, Xhsv_val2, Xhog_tr2, Xhog_val2, n_components=50\n",
        ")\n",
        "print(\"X_train (birleşik):\", Xtr2.shape, \"X_val (birleşik):\", Xval2.shape)\n",
        "\n",
        "model2 = create_rf_model(n_estimators=100, max_depth=30)\n",
        "model2.fit(Xtr2, ytr2)\n",
        "y_pred2 = model2.predict(Xval2)\n",
        "\n",
        "with open(\"rf_fruit_and_vegetable.pkl\", \"wb\") as f:\n",
        "    pickle.dump(model2, f)\n",
        "\n",
        "with open(\"pca_fruit_and_vegetable.pkl\", \"wb\") as f:\n",
        "    pickle.dump(pca2, f)\n",
        "\n",
        "print(\"\\nDataset 2: Fruit & Vegetable Diseases (Validation)\")\n",
        "print(\"Doğruluk:\", accuracy_score(yval2, y_pred2))\n",
        "print(classification_report(yval2, y_pred2))"
      ],
      "metadata": {
        "colab": {
          "base_uri": "https://localhost:8080/"
        },
        "id": "MRZOQinp36cw",
        "outputId": "93d4b8d1-8776-4f6c-d926-26b6a9bc5c29"
      },
      "execution_count": 120,
      "outputs": [
        {
          "output_type": "stream",
          "name": "stdout",
          "text": [
            "\n",
            "Fruit and Vegetable Diseases Dataset\n"
          ]
        },
        {
          "output_type": "stream",
          "name": "stderr",
          "text": [
            "100%|██████████| 29/29 [03:21<00:00,  6.96s/it]\n"
          ]
        },
        {
          "output_type": "stream",
          "name": "stdout",
          "text": [
            "Toplam örnek: 23425\n",
            "Eğitim boyutu: (18740, 512) Doğrulama boyutu: (4685, 512)\n",
            "X_train (birleşik): (18740, 562) X_val (birleşik): (4685, 562)\n"
          ]
        },
        {
          "output_type": "stream",
          "name": "stderr",
          "text": [
            "[Parallel(n_jobs=-1)]: Using backend ThreadingBackend with 8 concurrent workers.\n",
            "[Parallel(n_jobs=-1)]: Done  34 tasks      | elapsed:    1.1s\n",
            "[Parallel(n_jobs=-1)]: Done 100 out of 100 | elapsed:    2.9s finished\n",
            "[Parallel(n_jobs=8)]: Using backend ThreadingBackend with 8 concurrent workers.\n",
            "[Parallel(n_jobs=8)]: Done  34 tasks      | elapsed:    0.0s\n",
            "[Parallel(n_jobs=8)]: Done 100 out of 100 | elapsed:    0.0s finished\n"
          ]
        },
        {
          "output_type": "stream",
          "name": "stdout",
          "text": [
            "\n",
            "Dataset 2: Fruit & Vegetable Diseases (Validation)\n",
            "Doğruluk: 0.9216648879402348\n",
            "                      precision    recall  f1-score   support\n",
            "\n",
            "      Apple__Healthy       0.96      0.98      0.97       390\n",
            "       Apple__Rotten       0.93      0.96      0.94       468\n",
            "     Banana__Healthy       0.97      0.95      0.96       320\n",
            "      Banana__Rotten       0.89      0.99      0.94       448\n",
            " Bellpepper__Healthy       0.82      0.88      0.85        98\n",
            "  Bellpepper__Rotten       0.60      0.60      0.60        95\n",
            "     Carrot__Healthy       0.91      0.86      0.89        99\n",
            "      Carrot__Rotten       0.79      0.59      0.67        93\n",
            "   Cucumber__Healthy       0.80      0.91      0.85        97\n",
            "    Cucumber__Rotten       0.95      0.88      0.92        95\n",
            "      Grape__Healthy       0.94      0.91      0.92        32\n",
            "       Grape__Rotten       0.91      0.91      0.91        32\n",
            "      Guava__Healthy       1.00      1.00      1.00        32\n",
            "       Guava__Rotten       0.96      0.72      0.82        32\n",
            "     Jujube__Healthy       0.88      0.94      0.91        32\n",
            "      Jujube__Rotten       1.00      0.88      0.93        32\n",
            "      Mango__Healthy       0.96      0.97      0.96       290\n",
            "       Mango__Rotten       0.89      0.96      0.92       359\n",
            "     Orange__Healthy       0.95      0.98      0.97       332\n",
            "      Orange__Rotten       0.95      0.95      0.95       350\n",
            "Pomegranate__Healthy       0.94      0.97      0.95        32\n",
            " Pomegranate__Rotten       1.00      0.75      0.86        32\n",
            "     Potato__Healthy       0.99      0.79      0.88        98\n",
            "      Potato__Rotten       0.85      0.61      0.71        93\n",
            " Strawberry__Healthy       0.97      1.00      0.98       257\n",
            "  Strawberry__Rotten       0.96      0.94      0.95       255\n",
            "     Tomato__Healthy       0.94      0.77      0.85        97\n",
            "      Tomato__Rotten       0.93      0.73      0.82        95\n",
            "\n",
            "            accuracy                           0.92      4685\n",
            "           macro avg       0.91      0.87      0.89      4685\n",
            "        weighted avg       0.92      0.92      0.92      4685\n",
            "\n"
          ]
        }
      ]
    },
    {
      "cell_type": "code",
      "source": [
        "# Dataset 1: Fresh vs Rotten Dataset\n",
        "test_dir1 = \"/content/Fresh_and_Rotten_Classification/Fresh_and_Rotten_Classification/Test\"\n",
        "\n",
        "X_hsv1_te, X_hog1_te, y1_te = load_dataset(test_dir1)\n",
        "X1_te = build_final_features_with_pca(X_hsv1_te, X_hog1_te, pca1)\n",
        "\n",
        "y1_te_pred = model1.predict(X1_te)\n",
        "\n",
        "print(\"\\n[FINAL TEST] Dataset 1: Fresh vs Rotten (Test)\")\n",
        "print(\"Test doğruluk:\", accuracy_score(y1_te, y1_te_pred))\n",
        "print(classification_report(y1_te, y1_te_pred))"
      ],
      "metadata": {
        "colab": {
          "base_uri": "https://localhost:8080/"
        },
        "id": "S5UXU0TU8uwJ",
        "outputId": "a73f8d85-231c-4fb4-abe3-49fc30f571c4"
      },
      "execution_count": 121,
      "outputs": [
        {
          "output_type": "stream",
          "name": "stderr",
          "text": [
            "100%|██████████| 15/15 [00:48<00:00,  3.23s/it]\n"
          ]
        },
        {
          "output_type": "stream",
          "name": "stdout",
          "text": [
            "\n",
            "[FINAL TEST] Dataset 1: Fresh vs Rotten (Test)\n",
            "Test doğruluk: 0.9928762243989314\n",
            "                precision    recall  f1-score   support\n",
            "\n",
            "   freshapples       1.00      1.00      1.00       791\n",
            "   freshbanana       1.00      1.00      1.00       892\n",
            " freshcucumber       0.99      0.98      0.98       279\n",
            "     freshokra       0.97      0.99      0.98       370\n",
            "  freshoranges       0.99      1.00      1.00       388\n",
            "   freshpotato       0.97      0.97      0.97       270\n",
            "   freshtomato       1.00      1.00      1.00       255\n",
            "  rottenapples       1.00      1.00      1.00       988\n",
            "  rottenbanana       1.00      1.00      1.00       900\n",
            "rottencucumber       1.00      0.95      0.97       255\n",
            "    rottenokra       1.00      1.00      1.00       224\n",
            " rottenoranges       1.00      0.99      1.00       403\n",
            "  rottenpotato       0.97      0.98      0.97       370\n",
            "  rottentomato       1.00      1.00      1.00       353\n",
            "\n",
            "      accuracy                           0.99      6738\n",
            "     macro avg       0.99      0.99      0.99      6738\n",
            "  weighted avg       0.99      0.99      0.99      6738\n",
            "\n"
          ]
        },
        {
          "output_type": "stream",
          "name": "stderr",
          "text": [
            "[Parallel(n_jobs=8)]: Using backend ThreadingBackend with 8 concurrent workers.\n",
            "[Parallel(n_jobs=8)]: Done  34 tasks      | elapsed:    0.1s\n",
            "[Parallel(n_jobs=8)]: Done 100 out of 100 | elapsed:    0.1s finished\n"
          ]
        }
      ]
    },
    {
      "cell_type": "code",
      "source": [
        "# Dataset 2: Fruit and Vegetable Diseases Dataset\n",
        "test_dir2 = \"/content/Fruit_And_Vegetable_Diseases_Dataset/Fruit_And_Vegetable_Diseases_Dataset/Test\"\n",
        "\n",
        "X_hsv2_te, X_hog2_te, y2_te = load_dataset(test_dir2)\n",
        "X2_te = build_final_features_with_pca(X_hsv2_te, X_hog2_te, pca2)\n",
        "\n",
        "y2_te_pred = model2.predict(X2_te)\n",
        "\n",
        "print(\"\\n[FINAL TEST] Dataset 2: Fruit & Vegetable Diseases (Test)\")\n",
        "print(\"Test doğruluk:\", accuracy_score(y2_te, y2_te_pred))\n",
        "print(classification_report(y2_te, y2_te_pred))"
      ],
      "metadata": {
        "colab": {
          "base_uri": "https://localhost:8080/"
        },
        "id": "jFRq2Dup82EJ",
        "outputId": "bd322935-15d4-4bfe-a510-5605757f13c9"
      },
      "execution_count": 122,
      "outputs": [
        {
          "output_type": "stream",
          "name": "stderr",
          "text": [
            "100%|██████████| 29/29 [00:53<00:00,  1.86s/it]\n"
          ]
        },
        {
          "output_type": "stream",
          "name": "stdout",
          "text": [
            "\n",
            "[FINAL TEST] Dataset 2: Fruit & Vegetable Diseases (Test)\n",
            "Test doğruluk: 0.9266541289109249\n",
            "                      precision    recall  f1-score   support\n",
            "\n",
            "      Apple__Healthy       0.96      0.98      0.97       487\n",
            "       Apple__Rotten       0.92      0.96      0.94       585\n",
            "     Banana__Healthy       0.94      0.97      0.96       399\n",
            "      Banana__Rotten       0.92      0.99      0.95       559\n",
            " Bellpepper__Healthy       0.83      0.93      0.88       122\n",
            "  Bellpepper__Rotten       0.62      0.62      0.62       117\n",
            "     Carrot__Healthy       0.92      0.85      0.89       124\n",
            "      Carrot__Rotten       0.78      0.64      0.70       116\n",
            "   Cucumber__Healthy       0.80      0.89      0.84       121\n",
            "    Cucumber__Rotten       0.90      0.76      0.83       118\n",
            "      Grape__Healthy       0.92      0.90      0.91        40\n",
            "       Grape__Rotten       0.88      0.93      0.90        40\n",
            "      Guava__Healthy       0.95      1.00      0.98        40\n",
            "       Guava__Rotten       0.94      0.78      0.85        40\n",
            "     Jujube__Healthy       0.90      0.93      0.91        40\n",
            "      Jujube__Rotten       1.00      0.85      0.92        40\n",
            "      Mango__Healthy       0.97      0.97      0.97       362\n",
            "       Mango__Rotten       0.92      0.96      0.94       449\n",
            "     Orange__Healthy       0.97      0.99      0.98       415\n",
            "      Orange__Rotten       0.97      0.97      0.97       437\n",
            "Pomegranate__Healthy       0.95      0.95      0.95        40\n",
            " Pomegranate__Rotten       1.00      0.82      0.90        40\n",
            "     Potato__Healthy       0.96      0.86      0.91       123\n",
            "      Potato__Rotten       0.88      0.64      0.74       117\n",
            " Strawberry__Healthy       0.95      1.00      0.97       320\n",
            "  Strawberry__Rotten       0.98      0.91      0.94       319\n",
            "     Tomato__Healthy       0.90      0.81      0.85       120\n",
            "      Tomato__Rotten       0.93      0.74      0.82       119\n",
            "\n",
            "            accuracy                           0.93      5849\n",
            "           macro avg       0.91      0.88      0.89      5849\n",
            "        weighted avg       0.93      0.93      0.93      5849\n",
            "\n"
          ]
        },
        {
          "output_type": "stream",
          "name": "stderr",
          "text": [
            "[Parallel(n_jobs=8)]: Using backend ThreadingBackend with 8 concurrent workers.\n",
            "[Parallel(n_jobs=8)]: Done  34 tasks      | elapsed:    0.1s\n",
            "[Parallel(n_jobs=8)]: Done 100 out of 100 | elapsed:    0.1s finished\n"
          ]
        }
      ]
    }
  ]
}